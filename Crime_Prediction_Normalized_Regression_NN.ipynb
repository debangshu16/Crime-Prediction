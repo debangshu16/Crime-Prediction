{
 "cells": [
  {
   "cell_type": "code",
   "execution_count": 1,
   "metadata": {},
   "outputs": [],
   "source": [
    "import pandas as pd\n",
    "import numpy as np\n",
    "import matplotlib.pyplot as plt\n",
    "import seaborn as sns\n",
    "\n",
    "%matplotlib inline"
   ]
  },
  {
   "cell_type": "code",
   "execution_count": 2,
   "metadata": {},
   "outputs": [
    {
     "data": {
      "text/html": [
       "<div>\n",
       "<style scoped>\n",
       "    .dataframe tbody tr th:only-of-type {\n",
       "        vertical-align: middle;\n",
       "    }\n",
       "\n",
       "    .dataframe tbody tr th {\n",
       "        vertical-align: top;\n",
       "    }\n",
       "\n",
       "    .dataframe thead th {\n",
       "        text-align: right;\n",
       "    }\n",
       "</style>\n",
       "<table border=\"1\" class=\"dataframe\">\n",
       "  <thead>\n",
       "    <tr style=\"text-align: right;\">\n",
       "      <th></th>\n",
       "      <th>0</th>\n",
       "      <th>1</th>\n",
       "      <th>2</th>\n",
       "      <th>3</th>\n",
       "      <th>4</th>\n",
       "      <th>5</th>\n",
       "      <th>6</th>\n",
       "      <th>7</th>\n",
       "      <th>8</th>\n",
       "      <th>9</th>\n",
       "      <th>...</th>\n",
       "      <th>137</th>\n",
       "      <th>138</th>\n",
       "      <th>139</th>\n",
       "      <th>140</th>\n",
       "      <th>141</th>\n",
       "      <th>142</th>\n",
       "      <th>143</th>\n",
       "      <th>144</th>\n",
       "      <th>145</th>\n",
       "      <th>146</th>\n",
       "    </tr>\n",
       "  </thead>\n",
       "  <tbody>\n",
       "    <tr>\n",
       "      <th>0</th>\n",
       "      <td>BerkeleyHeightstownship</td>\n",
       "      <td>NJ</td>\n",
       "      <td>39</td>\n",
       "      <td>5320</td>\n",
       "      <td>1</td>\n",
       "      <td>11980</td>\n",
       "      <td>3.10</td>\n",
       "      <td>1.37</td>\n",
       "      <td>91.78</td>\n",
       "      <td>6.50</td>\n",
       "      <td>...</td>\n",
       "      <td>14</td>\n",
       "      <td>114.85</td>\n",
       "      <td>138</td>\n",
       "      <td>1132.08</td>\n",
       "      <td>16</td>\n",
       "      <td>131.26</td>\n",
       "      <td>2</td>\n",
       "      <td>16.41</td>\n",
       "      <td>41.02</td>\n",
       "      <td>1394.59</td>\n",
       "    </tr>\n",
       "    <tr>\n",
       "      <th>1</th>\n",
       "      <td>Marpletownship</td>\n",
       "      <td>PA</td>\n",
       "      <td>45</td>\n",
       "      <td>47616</td>\n",
       "      <td>1</td>\n",
       "      <td>23123</td>\n",
       "      <td>2.82</td>\n",
       "      <td>0.80</td>\n",
       "      <td>95.57</td>\n",
       "      <td>3.44</td>\n",
       "      <td>...</td>\n",
       "      <td>57</td>\n",
       "      <td>242.37</td>\n",
       "      <td>376</td>\n",
       "      <td>1598.78</td>\n",
       "      <td>26</td>\n",
       "      <td>110.55</td>\n",
       "      <td>1</td>\n",
       "      <td>4.25</td>\n",
       "      <td>127.56</td>\n",
       "      <td>1955.95</td>\n",
       "    </tr>\n",
       "    <tr>\n",
       "      <th>2</th>\n",
       "      <td>Tigardcity</td>\n",
       "      <td>OR</td>\n",
       "      <td>?</td>\n",
       "      <td>?</td>\n",
       "      <td>1</td>\n",
       "      <td>29344</td>\n",
       "      <td>2.43</td>\n",
       "      <td>0.74</td>\n",
       "      <td>94.33</td>\n",
       "      <td>3.43</td>\n",
       "      <td>...</td>\n",
       "      <td>274</td>\n",
       "      <td>758.14</td>\n",
       "      <td>1797</td>\n",
       "      <td>4972.19</td>\n",
       "      <td>136</td>\n",
       "      <td>376.3</td>\n",
       "      <td>22</td>\n",
       "      <td>60.87</td>\n",
       "      <td>218.59</td>\n",
       "      <td>6167.51</td>\n",
       "    </tr>\n",
       "    <tr>\n",
       "      <th>3</th>\n",
       "      <td>Gloversvillecity</td>\n",
       "      <td>NY</td>\n",
       "      <td>35</td>\n",
       "      <td>29443</td>\n",
       "      <td>1</td>\n",
       "      <td>16656</td>\n",
       "      <td>2.40</td>\n",
       "      <td>1.70</td>\n",
       "      <td>97.35</td>\n",
       "      <td>0.50</td>\n",
       "      <td>...</td>\n",
       "      <td>225</td>\n",
       "      <td>1301.78</td>\n",
       "      <td>716</td>\n",
       "      <td>4142.56</td>\n",
       "      <td>47</td>\n",
       "      <td>271.93</td>\n",
       "      <td>?</td>\n",
       "      <td>?</td>\n",
       "      <td>306.64</td>\n",
       "      <td>?</td>\n",
       "    </tr>\n",
       "    <tr>\n",
       "      <th>4</th>\n",
       "      <td>Bemidjicity</td>\n",
       "      <td>MN</td>\n",
       "      <td>7</td>\n",
       "      <td>5068</td>\n",
       "      <td>1</td>\n",
       "      <td>11245</td>\n",
       "      <td>2.76</td>\n",
       "      <td>0.53</td>\n",
       "      <td>89.16</td>\n",
       "      <td>1.17</td>\n",
       "      <td>...</td>\n",
       "      <td>91</td>\n",
       "      <td>728.93</td>\n",
       "      <td>1060</td>\n",
       "      <td>8490.87</td>\n",
       "      <td>91</td>\n",
       "      <td>728.93</td>\n",
       "      <td>5</td>\n",
       "      <td>40.05</td>\n",
       "      <td>?</td>\n",
       "      <td>9988.79</td>\n",
       "    </tr>\n",
       "  </tbody>\n",
       "</table>\n",
       "<p>5 rows × 147 columns</p>\n",
       "</div>"
      ],
      "text/plain": [
       "                       0   1   2      3    4      5     6     7      8    \\\n",
       "0  BerkeleyHeightstownship  NJ  39   5320    1  11980  3.10  1.37  91.78   \n",
       "1           Marpletownship  PA  45  47616    1  23123  2.82  0.80  95.57   \n",
       "2               Tigardcity  OR   ?      ?    1  29344  2.43  0.74  94.33   \n",
       "3         Gloversvillecity  NY  35  29443    1  16656  2.40  1.70  97.35   \n",
       "4              Bemidjicity  MN   7   5068    1  11245  2.76  0.53  89.16   \n",
       "\n",
       "    9    ...  137      138   139      140  141     142  143    144     145  \\\n",
       "0  6.50  ...   14   114.85   138  1132.08   16  131.26    2  16.41   41.02   \n",
       "1  3.44  ...   57   242.37   376  1598.78   26  110.55    1   4.25  127.56   \n",
       "2  3.43  ...  274   758.14  1797  4972.19  136   376.3   22  60.87  218.59   \n",
       "3  0.50  ...  225  1301.78   716  4142.56   47  271.93    ?      ?  306.64   \n",
       "4  1.17  ...   91   728.93  1060  8490.87   91  728.93    5  40.05       ?   \n",
       "\n",
       "       146  \n",
       "0  1394.59  \n",
       "1  1955.95  \n",
       "2  6167.51  \n",
       "3        ?  \n",
       "4  9988.79  \n",
       "\n",
       "[5 rows x 147 columns]"
      ]
     },
     "execution_count": 2,
     "metadata": {},
     "output_type": "execute_result"
    }
   ],
   "source": [
    "data_unnormalized = 'communities_and_crime_unnormalized/CommViolPredUnnormalizedData.txt'\n",
    "data = pd.read_csv(data_unnormalized, header = None)\n",
    "data.head()"
   ]
  },
  {
   "cell_type": "code",
   "execution_count": 3,
   "metadata": {},
   "outputs": [
    {
     "name": "stdout",
     "output_type": "stream",
     "text": [
      "['communityname', 'State', 'countyCode', 'communityCode', 'fold', 'pop', 'perHoush', 'pctBlack', 'pctWhite', 'pctAsian', 'pctHisp', 'pct12-21', 'pct12-29', 'pct16-24', 'pct65up', 'persUrban', 'pctUrban', 'medIncome', 'pctWwage', 'pctWfarm', 'pctWdiv', 'pctWsocsec', 'pctPubAsst', 'pctRetire', 'medFamIncome', 'perCapInc', 'whitePerCap', 'blackPerCap', 'NAperCap', 'asianPerCap', 'otherPerCap', 'hispPerCap', 'persPoverty', 'pctPoverty', 'pctLowEdu', 'pctNotHSgrad', 'pctCollGrad', 'pctUnemploy', 'pctEmploy', 'pctEmployMfg', 'pctEmployProfServ', 'pctOccupManu', 'pctOccupMgmt', 'pctMaleDivorc', 'pctMaleNevMar', 'pctFemDivorc', 'pctAllDivorc', 'persPerFam', 'pct2Par', 'pctKids2Par', 'pctKids-4w2Par', 'pct12-17w2Par', 'pctWorkMom-6', 'pctWorkMom-18', 'kidsBornNevrMarr', 'pctKidsBornNevrMarr', 'numForeignBorn', 'pctFgnImmig-3', 'pctFgnImmig-5', 'pctFgnImmig-8', 'pctFgnImmig-10', 'pctImmig-3', 'pctImmig-5', 'pctImmig-8', 'pctImmig-10', 'pctSpeakOnlyEng', 'pctNotSpeakEng', 'pctLargHousFam', 'pctLargHous', 'persPerOccupHous', 'persPerOwnOccup', 'persPerRenterOccup', 'pctPersOwnOccup', 'pctPopDenseHous', 'pctSmallHousUnits', 'medNumBedrm', 'houseVacant', 'pctHousOccup', 'pctHousOwnerOccup', 'pctVacantBoarded', 'pctVacant6up', 'medYrHousBuilt', 'pctHousWOphone', 'pctHousWOplumb', 'ownHousLowQ', 'ownHousMed', 'ownHousUperQ', 'ownHousQrange', 'rentLowQ', 'rentMed', 'rentUpperQ', 'rentQrange', 'medGrossRent', 'medRentpctHousInc', 'medOwnCostpct', 'medOwnCostPctWO', 'persEmergShelt', 'persHomeless', 'pctForeignBorn', 'pctBornStateResid', 'pctSameHouse-5', 'pctSameCounty-5', 'pctSameState-5', 'numPolice', 'policePerPop', 'policeField', 'policeFieldPerPop', 'policeCalls', 'policCallPerPop', 'policCallPerOffic', 'policePerPop2', 'racialMatch', 'pctPolicWhite', 'pctPolicBlack', 'pctPolicHisp', 'pctPolicAsian', 'pctPolicMinority', 'officDrugUnits', 'numDiffDrugsSeiz', 'policAveOT', 'landArea', 'popDensity', 'pctUsePubTrans', 'policCarsAvail', 'policOperBudget', 'pctPolicPatrol', 'gangUnit', 'pctOfficDrugUnit', 'policBudgetPerPop', 'murders', 'murdPerPop', 'rapes', 'rapesPerPop', 'robberies', 'robbbPerPop', 'assaults', 'assaultPerPop', 'burglaries', 'burglPerPop', 'larcenies', 'larcPerPop', 'autoTheft', 'autoTheftPerPop', 'arsons', 'arsonsPerPop', 'violentPerPop', 'nonViolPerPop']\n"
     ]
    }
   ],
   "source": [
    "attribute_names = []\n",
    "with open('communities_and_crime_unnormalized/attribute_names.txt','r') as f:\n",
    "    t = f.readlines()\n",
    "    for x in t:\n",
    "        attribute_names.append(x.split(' ')[1])\n",
    "        \n",
    "print (attribute_names)"
   ]
  },
  {
   "cell_type": "code",
   "execution_count": 4,
   "metadata": {},
   "outputs": [
    {
     "data": {
      "text/html": [
       "<div>\n",
       "<style scoped>\n",
       "    .dataframe tbody tr th:only-of-type {\n",
       "        vertical-align: middle;\n",
       "    }\n",
       "\n",
       "    .dataframe tbody tr th {\n",
       "        vertical-align: top;\n",
       "    }\n",
       "\n",
       "    .dataframe thead th {\n",
       "        text-align: right;\n",
       "    }\n",
       "</style>\n",
       "<table border=\"1\" class=\"dataframe\">\n",
       "  <thead>\n",
       "    <tr style=\"text-align: right;\">\n",
       "      <th></th>\n",
       "      <th>communityname</th>\n",
       "      <th>State</th>\n",
       "      <th>countyCode</th>\n",
       "      <th>communityCode</th>\n",
       "      <th>fold</th>\n",
       "      <th>pop</th>\n",
       "      <th>perHoush</th>\n",
       "      <th>pctBlack</th>\n",
       "      <th>pctWhite</th>\n",
       "      <th>pctAsian</th>\n",
       "      <th>...</th>\n",
       "      <th>burglaries</th>\n",
       "      <th>burglPerPop</th>\n",
       "      <th>larcenies</th>\n",
       "      <th>larcPerPop</th>\n",
       "      <th>autoTheft</th>\n",
       "      <th>autoTheftPerPop</th>\n",
       "      <th>arsons</th>\n",
       "      <th>arsonsPerPop</th>\n",
       "      <th>violentPerPop</th>\n",
       "      <th>nonViolPerPop</th>\n",
       "    </tr>\n",
       "  </thead>\n",
       "  <tbody>\n",
       "    <tr>\n",
       "      <th>0</th>\n",
       "      <td>BerkeleyHeightstownship</td>\n",
       "      <td>NJ</td>\n",
       "      <td>39</td>\n",
       "      <td>5320</td>\n",
       "      <td>1</td>\n",
       "      <td>11980</td>\n",
       "      <td>3.10</td>\n",
       "      <td>1.37</td>\n",
       "      <td>91.78</td>\n",
       "      <td>6.50</td>\n",
       "      <td>...</td>\n",
       "      <td>14</td>\n",
       "      <td>114.85</td>\n",
       "      <td>138</td>\n",
       "      <td>1132.08</td>\n",
       "      <td>16</td>\n",
       "      <td>131.26</td>\n",
       "      <td>2</td>\n",
       "      <td>16.41</td>\n",
       "      <td>41.02</td>\n",
       "      <td>1394.59</td>\n",
       "    </tr>\n",
       "    <tr>\n",
       "      <th>1</th>\n",
       "      <td>Marpletownship</td>\n",
       "      <td>PA</td>\n",
       "      <td>45</td>\n",
       "      <td>47616</td>\n",
       "      <td>1</td>\n",
       "      <td>23123</td>\n",
       "      <td>2.82</td>\n",
       "      <td>0.80</td>\n",
       "      <td>95.57</td>\n",
       "      <td>3.44</td>\n",
       "      <td>...</td>\n",
       "      <td>57</td>\n",
       "      <td>242.37</td>\n",
       "      <td>376</td>\n",
       "      <td>1598.78</td>\n",
       "      <td>26</td>\n",
       "      <td>110.55</td>\n",
       "      <td>1</td>\n",
       "      <td>4.25</td>\n",
       "      <td>127.56</td>\n",
       "      <td>1955.95</td>\n",
       "    </tr>\n",
       "    <tr>\n",
       "      <th>2</th>\n",
       "      <td>Tigardcity</td>\n",
       "      <td>OR</td>\n",
       "      <td>?</td>\n",
       "      <td>?</td>\n",
       "      <td>1</td>\n",
       "      <td>29344</td>\n",
       "      <td>2.43</td>\n",
       "      <td>0.74</td>\n",
       "      <td>94.33</td>\n",
       "      <td>3.43</td>\n",
       "      <td>...</td>\n",
       "      <td>274</td>\n",
       "      <td>758.14</td>\n",
       "      <td>1797</td>\n",
       "      <td>4972.19</td>\n",
       "      <td>136</td>\n",
       "      <td>376.3</td>\n",
       "      <td>22</td>\n",
       "      <td>60.87</td>\n",
       "      <td>218.59</td>\n",
       "      <td>6167.51</td>\n",
       "    </tr>\n",
       "    <tr>\n",
       "      <th>3</th>\n",
       "      <td>Gloversvillecity</td>\n",
       "      <td>NY</td>\n",
       "      <td>35</td>\n",
       "      <td>29443</td>\n",
       "      <td>1</td>\n",
       "      <td>16656</td>\n",
       "      <td>2.40</td>\n",
       "      <td>1.70</td>\n",
       "      <td>97.35</td>\n",
       "      <td>0.50</td>\n",
       "      <td>...</td>\n",
       "      <td>225</td>\n",
       "      <td>1301.78</td>\n",
       "      <td>716</td>\n",
       "      <td>4142.56</td>\n",
       "      <td>47</td>\n",
       "      <td>271.93</td>\n",
       "      <td>?</td>\n",
       "      <td>?</td>\n",
       "      <td>306.64</td>\n",
       "      <td>?</td>\n",
       "    </tr>\n",
       "    <tr>\n",
       "      <th>4</th>\n",
       "      <td>Bemidjicity</td>\n",
       "      <td>MN</td>\n",
       "      <td>7</td>\n",
       "      <td>5068</td>\n",
       "      <td>1</td>\n",
       "      <td>11245</td>\n",
       "      <td>2.76</td>\n",
       "      <td>0.53</td>\n",
       "      <td>89.16</td>\n",
       "      <td>1.17</td>\n",
       "      <td>...</td>\n",
       "      <td>91</td>\n",
       "      <td>728.93</td>\n",
       "      <td>1060</td>\n",
       "      <td>8490.87</td>\n",
       "      <td>91</td>\n",
       "      <td>728.93</td>\n",
       "      <td>5</td>\n",
       "      <td>40.05</td>\n",
       "      <td>?</td>\n",
       "      <td>9988.79</td>\n",
       "    </tr>\n",
       "  </tbody>\n",
       "</table>\n",
       "<p>5 rows × 147 columns</p>\n",
       "</div>"
      ],
      "text/plain": [
       "             communityname State countyCode communityCode  fold    pop  \\\n",
       "0  BerkeleyHeightstownship    NJ         39          5320     1  11980   \n",
       "1           Marpletownship    PA         45         47616     1  23123   \n",
       "2               Tigardcity    OR          ?             ?     1  29344   \n",
       "3         Gloversvillecity    NY         35         29443     1  16656   \n",
       "4              Bemidjicity    MN          7          5068     1  11245   \n",
       "\n",
       "   perHoush  pctBlack  pctWhite  pctAsian  ...  burglaries  burglPerPop  \\\n",
       "0      3.10      1.37     91.78      6.50  ...          14       114.85   \n",
       "1      2.82      0.80     95.57      3.44  ...          57       242.37   \n",
       "2      2.43      0.74     94.33      3.43  ...         274       758.14   \n",
       "3      2.40      1.70     97.35      0.50  ...         225      1301.78   \n",
       "4      2.76      0.53     89.16      1.17  ...          91       728.93   \n",
       "\n",
       "   larcenies  larcPerPop  autoTheft  autoTheftPerPop  arsons  arsonsPerPop  \\\n",
       "0        138     1132.08         16           131.26       2         16.41   \n",
       "1        376     1598.78         26           110.55       1          4.25   \n",
       "2       1797     4972.19        136            376.3      22         60.87   \n",
       "3        716     4142.56         47           271.93       ?             ?   \n",
       "4       1060     8490.87         91           728.93       5         40.05   \n",
       "\n",
       "   violentPerPop  nonViolPerPop  \n",
       "0          41.02        1394.59  \n",
       "1         127.56        1955.95  \n",
       "2         218.59        6167.51  \n",
       "3         306.64              ?  \n",
       "4              ?        9988.79  \n",
       "\n",
       "[5 rows x 147 columns]"
      ]
     },
     "execution_count": 4,
     "metadata": {},
     "output_type": "execute_result"
    }
   ],
   "source": [
    "data.columns = attribute_names\n",
    "data.head()"
   ]
  },
  {
   "cell_type": "code",
   "execution_count": 5,
   "metadata": {},
   "outputs": [],
   "source": [
    "data.replace('?',np.nan,inplace = True)"
   ]
  },
  {
   "cell_type": "code",
   "execution_count": 6,
   "metadata": {},
   "outputs": [
    {
     "data": {
      "text/plain": [
       "221"
      ]
     },
     "execution_count": 6,
     "metadata": {},
     "output_type": "execute_result"
    }
   ],
   "source": [
    "goal_variable = 'violentPerPop'\n",
    "sum(data[goal_variable].isna())"
   ]
  },
  {
   "cell_type": "markdown",
   "metadata": {},
   "source": [
    "Since there are 221 missing values in the target variable, we are going to drop these 221 instances."
   ]
  },
  {
   "cell_type": "code",
   "execution_count": 7,
   "metadata": {},
   "outputs": [
    {
     "data": {
      "text/plain": [
       "(1994, 147)"
      ]
     },
     "execution_count": 7,
     "metadata": {},
     "output_type": "execute_result"
    }
   ],
   "source": [
    "indexes = data[goal_variable].isna()\n",
    "indexes = np.where(indexes==True)\n",
    "\n",
    "data.drop(indexes[0], axis = 0, inplace = True)\n",
    "data.shape"
   ]
  },
  {
   "cell_type": "markdown",
   "metadata": {},
   "source": [
    "Dropping other goal variables"
   ]
  },
  {
   "cell_type": "code",
   "execution_count": 8,
   "metadata": {},
   "outputs": [
    {
     "data": {
      "text/plain": [
       "17"
      ]
     },
     "execution_count": 8,
     "metadata": {},
     "output_type": "execute_result"
    }
   ],
   "source": [
    "other_goal_variables = ['murders', 'murdPerPop', 'rapes', 'rapesPerPop', 'robberies', 'robbbPerPop', 'assaults',\n",
    "                        'assaultPerPop', 'burglaries', 'burglPerPop', 'larcenies', 'larcPerPop', 'autoTheft',\n",
    "                        'autoTheftPerPop', 'arsons', 'arsonsPerPop', 'nonViolPerPop']\n",
    "\n",
    "len(other_goal_variables)"
   ]
  },
  {
   "cell_type": "code",
   "execution_count": 9,
   "metadata": {},
   "outputs": [
    {
     "data": {
      "text/plain": [
       "(1994, 130)"
      ]
     },
     "execution_count": 9,
     "metadata": {},
     "output_type": "execute_result"
    }
   ],
   "source": [
    "data.drop(other_goal_variables, axis = 1, inplace = True)\n",
    "data.shape"
   ]
  },
  {
   "cell_type": "code",
   "execution_count": 10,
   "metadata": {},
   "outputs": [
    {
     "data": {
      "text/html": [
       "<div>\n",
       "<style scoped>\n",
       "    .dataframe tbody tr th:only-of-type {\n",
       "        vertical-align: middle;\n",
       "    }\n",
       "\n",
       "    .dataframe tbody tr th {\n",
       "        vertical-align: top;\n",
       "    }\n",
       "\n",
       "    .dataframe thead th {\n",
       "        text-align: right;\n",
       "    }\n",
       "</style>\n",
       "<table border=\"1\" class=\"dataframe\">\n",
       "  <thead>\n",
       "    <tr style=\"text-align: right;\">\n",
       "      <th></th>\n",
       "      <th>index</th>\n",
       "      <th>communityname</th>\n",
       "      <th>State</th>\n",
       "      <th>countyCode</th>\n",
       "      <th>communityCode</th>\n",
       "      <th>fold</th>\n",
       "      <th>pop</th>\n",
       "      <th>perHoush</th>\n",
       "      <th>pctBlack</th>\n",
       "      <th>pctWhite</th>\n",
       "      <th>...</th>\n",
       "      <th>landArea</th>\n",
       "      <th>popDensity</th>\n",
       "      <th>pctUsePubTrans</th>\n",
       "      <th>policCarsAvail</th>\n",
       "      <th>policOperBudget</th>\n",
       "      <th>pctPolicPatrol</th>\n",
       "      <th>gangUnit</th>\n",
       "      <th>pctOfficDrugUnit</th>\n",
       "      <th>policBudgetPerPop</th>\n",
       "      <th>violentPerPop</th>\n",
       "    </tr>\n",
       "  </thead>\n",
       "  <tbody>\n",
       "    <tr>\n",
       "      <th>0</th>\n",
       "      <td>0</td>\n",
       "      <td>BerkeleyHeightstownship</td>\n",
       "      <td>NJ</td>\n",
       "      <td>39</td>\n",
       "      <td>5320</td>\n",
       "      <td>1</td>\n",
       "      <td>11980</td>\n",
       "      <td>3.10</td>\n",
       "      <td>1.37</td>\n",
       "      <td>91.78</td>\n",
       "      <td>...</td>\n",
       "      <td>6.5</td>\n",
       "      <td>1845.9</td>\n",
       "      <td>9.63</td>\n",
       "      <td>NaN</td>\n",
       "      <td>NaN</td>\n",
       "      <td>NaN</td>\n",
       "      <td>NaN</td>\n",
       "      <td>0.0</td>\n",
       "      <td>NaN</td>\n",
       "      <td>41.02</td>\n",
       "    </tr>\n",
       "    <tr>\n",
       "      <th>1</th>\n",
       "      <td>1</td>\n",
       "      <td>Marpletownship</td>\n",
       "      <td>PA</td>\n",
       "      <td>45</td>\n",
       "      <td>47616</td>\n",
       "      <td>1</td>\n",
       "      <td>23123</td>\n",
       "      <td>2.82</td>\n",
       "      <td>0.80</td>\n",
       "      <td>95.57</td>\n",
       "      <td>...</td>\n",
       "      <td>10.6</td>\n",
       "      <td>2186.7</td>\n",
       "      <td>3.84</td>\n",
       "      <td>NaN</td>\n",
       "      <td>NaN</td>\n",
       "      <td>NaN</td>\n",
       "      <td>NaN</td>\n",
       "      <td>0.0</td>\n",
       "      <td>NaN</td>\n",
       "      <td>127.56</td>\n",
       "    </tr>\n",
       "    <tr>\n",
       "      <th>2</th>\n",
       "      <td>2</td>\n",
       "      <td>Tigardcity</td>\n",
       "      <td>OR</td>\n",
       "      <td>NaN</td>\n",
       "      <td>NaN</td>\n",
       "      <td>1</td>\n",
       "      <td>29344</td>\n",
       "      <td>2.43</td>\n",
       "      <td>0.74</td>\n",
       "      <td>94.33</td>\n",
       "      <td>...</td>\n",
       "      <td>10.6</td>\n",
       "      <td>2780.9</td>\n",
       "      <td>4.37</td>\n",
       "      <td>NaN</td>\n",
       "      <td>NaN</td>\n",
       "      <td>NaN</td>\n",
       "      <td>NaN</td>\n",
       "      <td>0.0</td>\n",
       "      <td>NaN</td>\n",
       "      <td>218.59</td>\n",
       "    </tr>\n",
       "    <tr>\n",
       "      <th>3</th>\n",
       "      <td>3</td>\n",
       "      <td>Gloversvillecity</td>\n",
       "      <td>NY</td>\n",
       "      <td>35</td>\n",
       "      <td>29443</td>\n",
       "      <td>1</td>\n",
       "      <td>16656</td>\n",
       "      <td>2.40</td>\n",
       "      <td>1.70</td>\n",
       "      <td>97.35</td>\n",
       "      <td>...</td>\n",
       "      <td>5.2</td>\n",
       "      <td>3217.7</td>\n",
       "      <td>3.31</td>\n",
       "      <td>NaN</td>\n",
       "      <td>NaN</td>\n",
       "      <td>NaN</td>\n",
       "      <td>NaN</td>\n",
       "      <td>0.0</td>\n",
       "      <td>NaN</td>\n",
       "      <td>306.64</td>\n",
       "    </tr>\n",
       "    <tr>\n",
       "      <th>4</th>\n",
       "      <td>5</td>\n",
       "      <td>Springfieldcity</td>\n",
       "      <td>MO</td>\n",
       "      <td>NaN</td>\n",
       "      <td>NaN</td>\n",
       "      <td>1</td>\n",
       "      <td>140494</td>\n",
       "      <td>2.45</td>\n",
       "      <td>2.51</td>\n",
       "      <td>95.65</td>\n",
       "      <td>...</td>\n",
       "      <td>70.4</td>\n",
       "      <td>1995.7</td>\n",
       "      <td>0.97</td>\n",
       "      <td>NaN</td>\n",
       "      <td>NaN</td>\n",
       "      <td>NaN</td>\n",
       "      <td>NaN</td>\n",
       "      <td>0.0</td>\n",
       "      <td>NaN</td>\n",
       "      <td>442.95</td>\n",
       "    </tr>\n",
       "  </tbody>\n",
       "</table>\n",
       "<p>5 rows × 131 columns</p>\n",
       "</div>"
      ],
      "text/plain": [
       "   index            communityname State countyCode communityCode  fold  \\\n",
       "0      0  BerkeleyHeightstownship    NJ         39          5320     1   \n",
       "1      1           Marpletownship    PA         45         47616     1   \n",
       "2      2               Tigardcity    OR        NaN           NaN     1   \n",
       "3      3         Gloversvillecity    NY         35         29443     1   \n",
       "4      5          Springfieldcity    MO        NaN           NaN     1   \n",
       "\n",
       "      pop  perHoush  pctBlack  pctWhite  ...  landArea  popDensity  \\\n",
       "0   11980      3.10      1.37     91.78  ...       6.5      1845.9   \n",
       "1   23123      2.82      0.80     95.57  ...      10.6      2186.7   \n",
       "2   29344      2.43      0.74     94.33  ...      10.6      2780.9   \n",
       "3   16656      2.40      1.70     97.35  ...       5.2      3217.7   \n",
       "4  140494      2.45      2.51     95.65  ...      70.4      1995.7   \n",
       "\n",
       "   pctUsePubTrans  policCarsAvail  policOperBudget  pctPolicPatrol  gangUnit  \\\n",
       "0            9.63             NaN              NaN             NaN       NaN   \n",
       "1            3.84             NaN              NaN             NaN       NaN   \n",
       "2            4.37             NaN              NaN             NaN       NaN   \n",
       "3            3.31             NaN              NaN             NaN       NaN   \n",
       "4            0.97             NaN              NaN             NaN       NaN   \n",
       "\n",
       "   pctOfficDrugUnit  policBudgetPerPop  violentPerPop  \n",
       "0               0.0                NaN          41.02  \n",
       "1               0.0                NaN         127.56  \n",
       "2               0.0                NaN         218.59  \n",
       "3               0.0                NaN         306.64  \n",
       "4               0.0                NaN         442.95  \n",
       "\n",
       "[5 rows x 131 columns]"
      ]
     },
     "execution_count": 10,
     "metadata": {},
     "output_type": "execute_result"
    }
   ],
   "source": [
    "data.reset_index(inplace = True)\n",
    "data.head()\n"
   ]
  },
  {
   "cell_type": "code",
   "execution_count": 11,
   "metadata": {},
   "outputs": [],
   "source": [
    "from sklearn.preprocessing import MinMaxScaler, StandardScaler"
   ]
  },
  {
   "cell_type": "code",
   "execution_count": 12,
   "metadata": {},
   "outputs": [],
   "source": [
    "data[goal_variable] = data[goal_variable].astype(np.float64)"
   ]
  },
  {
   "cell_type": "code",
   "execution_count": 13,
   "metadata": {},
   "outputs": [],
   "source": [
    "m = np.min(data[goal_variable])\n",
    "M = np.max(data[goal_variable])\n",
    "\n",
    "data[goal_variable] = data[goal_variable].apply(lambda x: (x-m)/(M-m))"
   ]
  },
  {
   "cell_type": "code",
   "execution_count": 14,
   "metadata": {},
   "outputs": [],
   "source": [
    "true_ys = data[goal_variable].values.copy()"
   ]
  },
  {
   "cell_type": "code",
   "execution_count": null,
   "metadata": {},
   "outputs": [],
   "source": []
  },
  {
   "cell_type": "markdown",
   "metadata": {},
   "source": [
    "## Visualizing Target Variable"
   ]
  },
  {
   "cell_type": "code",
   "execution_count": 15,
   "metadata": {},
   "outputs": [],
   "source": [
    "data[goal_variable] = data[goal_variable].astype(np.float64)"
   ]
  },
  {
   "cell_type": "code",
   "execution_count": 16,
   "metadata": {},
   "outputs": [
    {
     "name": "stderr",
     "output_type": "stream",
     "text": [
      "c:\\users\\lenovo\\appdata\\local\\programs\\python\\python37\\lib\\site-packages\\seaborn\\distributions.py:2551: FutureWarning: `distplot` is a deprecated function and will be removed in a future version. Please adapt your code to use either `displot` (a figure-level function with similar flexibility) or `histplot` (an axes-level function for histograms).\n",
      "  warnings.warn(msg, FutureWarning)\n"
     ]
    },
    {
     "data": {
      "image/png": "[encoded data removed]",
      "text/plain": [
       "<Figure size 432x288 with 1 Axes>"
      ]
     },
     "metadata": {
      "needs_background": "light"
     },
     "output_type": "display_data"
    }
   ],
   "source": [
    "sns.distplot(data[goal_variable])\n",
    "plt.show()"
   ]
  },
  {
   "cell_type": "markdown",
   "metadata": {},
   "source": [
    "Descriptive statistics of the target variable"
   ]
  },
  {
   "cell_type": "code",
   "execution_count": 17,
   "metadata": {},
   "outputs": [
    {
     "data": {
      "text/plain": [
       "{'min': 0.0,\n",
       " 'max': 1.0,\n",
       " 'mean': 0.12078567,\n",
       " 'std': 0.12602477,\n",
       " 'median': 0.07669785,\n",
       " 'Skewness': 2.0653159618377686,\n",
       " 'Kurtosis': 5.579642948884782,\n",
       " 'Percentage_within_3_sd': 97.89368104312939}"
      ]
     },
     "execution_count": 17,
     "metadata": {},
     "output_type": "execute_result"
    }
   ],
   "source": [
    "from scipy import stats\n",
    "\n",
    "y = np.array(data[goal_variable].values, dtype = np.float32)\n",
    "descriptive = {}\n",
    "\n",
    "descriptive['min'] = np.min(y)\n",
    "descriptive['max'] = np.max(y)\n",
    "\n",
    "descriptive['mean'] = np.mean(y)\n",
    "descriptive['std'] = np.std(y)\n",
    "descriptive['median'] = np.median(y)\n",
    "descriptive['Skewness'] = stats.skew(y)\n",
    "descriptive['Kurtosis'] = stats.kurtosis(y)\n",
    "\n",
    "count = 0\n",
    "l1 = descriptive['mean'] - 3*descriptive['std']\n",
    "l2 = descriptive['mean'] + 3*descriptive['std']\n",
    "for value in y:\n",
    "    if l1<=value<=l2:\n",
    "        count+=1\n",
    "        \n",
    "descriptive['Percentage_within_3_sd'] = count/len(y) * 100\n",
    "\n",
    "descriptive"
   ]
  },
  {
   "cell_type": "code",
   "execution_count": 18,
   "metadata": {},
   "outputs": [
    {
     "data": {
      "image/png": "[encoded data removed]",
      "text/plain": [
       "<Figure size 432x288 with 1 Axes>"
      ]
     },
     "metadata": {
      "needs_background": "light"
     },
     "output_type": "display_data"
    }
   ],
   "source": [
    "stats.probplot(y, plot = plt)\n",
    "plt.show()"
   ]
  },
  {
   "cell_type": "markdown",
   "metadata": {},
   "source": [
    "## Handling missing values"
   ]
  },
  {
   "cell_type": "code",
   "execution_count": 19,
   "metadata": {},
   "outputs": [
    {
     "data": {
      "text/plain": [
       "numPolice            84.002006\n",
       "policePerPop         84.002006\n",
       "policeField          84.002006\n",
       "policeFieldPerPop    84.002006\n",
       "policeCalls          84.002006\n",
       "policCallPerPop      84.002006\n",
       "policCallPerOffic    84.002006\n",
       "policePerPop2        84.002006\n",
       "racialMatch          84.002006\n",
       "pctPolicWhite        84.002006\n",
       "pctPolicBlack        84.002006\n",
       "pctPolicHisp         84.002006\n",
       "pctPolicAsian        84.002006\n",
       "pctPolicMinority     84.002006\n",
       "officDrugUnits       84.002006\n",
       "numDiffDrugsSeiz     84.002006\n",
       "policAveOT           84.002006\n",
       "policCarsAvail       84.002006\n",
       "policOperBudget      84.002006\n",
       "pctPolicPatrol       84.002006\n",
       "gangUnit             84.002006\n",
       "policBudgetPerPop    84.002006\n",
       "communityCode        59.027081\n",
       "countyCode           58.876630\n",
       "otherPerCap           0.050150\n",
       "dtype: float64"
      ]
     },
     "execution_count": 19,
     "metadata": {},
     "output_type": "execute_result"
    }
   ],
   "source": [
    "missing_values = {}\n",
    "n = data.shape[0]\n",
    "for variable in data.columns:\n",
    "    missing = sum(data[variable].isna())\n",
    "    if missing >  0:\n",
    "        missing_values[variable] = missing/n * 100\n",
    "        \n",
    "missing_values = dict(sorted(missing_values.items(), key = lambda x:x[1], reverse = True))\n",
    "\n",
    "missing_values = pd.Series(missing_values)\n",
    "missing_values"
   ]
  },
  {
   "cell_type": "markdown",
   "metadata": {},
   "source": [
    "There is one variable 'otherPerCap' which has about 5% missing values. 'countyCode' and 'communityCode' has around 59% missing values. There are 22 other variables which have around 84% missing values. Keeping 'otherPerCap' we drop all the other variables as they have significant percentage of missing values."
   ]
  },
  {
   "cell_type": "code",
   "execution_count": 20,
   "metadata": {},
   "outputs": [
    {
     "data": {
      "text/plain": [
       "(1994, 106)"
      ]
     },
     "execution_count": 20,
     "metadata": {},
     "output_type": "execute_result"
    }
   ],
   "source": [
    "to_drop = list(missing_values.keys())\n",
    "#to_drop.remove('otherPerCap')\n",
    "\n",
    "data.drop(to_drop,axis = 1,inplace = True)\n",
    "data.shape"
   ]
  },
  {
   "cell_type": "markdown",
   "metadata": {},
   "source": [
    "Checking the variable 'otherPerCap'"
   ]
  },
  {
   "cell_type": "code",
   "execution_count": 21,
   "metadata": {},
   "outputs": [
    {
     "data": {
      "text/html": [
       "<div>\n",
       "<style scoped>\n",
       "    .dataframe tbody tr th:only-of-type {\n",
       "        vertical-align: middle;\n",
       "    }\n",
       "\n",
       "    .dataframe tbody tr th {\n",
       "        vertical-align: top;\n",
       "    }\n",
       "\n",
       "    .dataframe thead th {\n",
       "        text-align: right;\n",
       "    }\n",
       "</style>\n",
       "<table border=\"1\" class=\"dataframe\">\n",
       "  <thead>\n",
       "    <tr style=\"text-align: right;\">\n",
       "      <th></th>\n",
       "      <th>index</th>\n",
       "      <th>fold</th>\n",
       "      <th>pop</th>\n",
       "      <th>perHoush</th>\n",
       "      <th>pctBlack</th>\n",
       "      <th>pctWhite</th>\n",
       "      <th>pctAsian</th>\n",
       "      <th>pctHisp</th>\n",
       "      <th>pct12-21</th>\n",
       "      <th>pct12-29</th>\n",
       "      <th>...</th>\n",
       "      <th>pctForeignBorn</th>\n",
       "      <th>pctBornStateResid</th>\n",
       "      <th>pctSameHouse-5</th>\n",
       "      <th>pctSameCounty-5</th>\n",
       "      <th>pctSameState-5</th>\n",
       "      <th>landArea</th>\n",
       "      <th>popDensity</th>\n",
       "      <th>pctUsePubTrans</th>\n",
       "      <th>pctOfficDrugUnit</th>\n",
       "      <th>violentPerPop</th>\n",
       "    </tr>\n",
       "  </thead>\n",
       "  <tbody>\n",
       "    <tr>\n",
       "      <th>0</th>\n",
       "      <td>0</td>\n",
       "      <td>1</td>\n",
       "      <td>11980</td>\n",
       "      <td>3.10</td>\n",
       "      <td>1.37</td>\n",
       "      <td>91.78</td>\n",
       "      <td>6.50</td>\n",
       "      <td>1.88</td>\n",
       "      <td>12.47</td>\n",
       "      <td>21.44</td>\n",
       "      <td>...</td>\n",
       "      <td>10.66</td>\n",
       "      <td>53.72</td>\n",
       "      <td>65.29</td>\n",
       "      <td>78.09</td>\n",
       "      <td>89.14</td>\n",
       "      <td>6.5</td>\n",
       "      <td>1845.9</td>\n",
       "      <td>9.63</td>\n",
       "      <td>0.0</td>\n",
       "      <td>0.008411</td>\n",
       "    </tr>\n",
       "    <tr>\n",
       "      <th>1</th>\n",
       "      <td>1</td>\n",
       "      <td>1</td>\n",
       "      <td>23123</td>\n",
       "      <td>2.82</td>\n",
       "      <td>0.80</td>\n",
       "      <td>95.57</td>\n",
       "      <td>3.44</td>\n",
       "      <td>0.85</td>\n",
       "      <td>11.01</td>\n",
       "      <td>21.30</td>\n",
       "      <td>...</td>\n",
       "      <td>8.30</td>\n",
       "      <td>77.17</td>\n",
       "      <td>71.27</td>\n",
       "      <td>90.22</td>\n",
       "      <td>96.12</td>\n",
       "      <td>10.6</td>\n",
       "      <td>2186.7</td>\n",
       "      <td>3.84</td>\n",
       "      <td>0.0</td>\n",
       "      <td>0.026155</td>\n",
       "    </tr>\n",
       "    <tr>\n",
       "      <th>2</th>\n",
       "      <td>2</td>\n",
       "      <td>1</td>\n",
       "      <td>29344</td>\n",
       "      <td>2.43</td>\n",
       "      <td>0.74</td>\n",
       "      <td>94.33</td>\n",
       "      <td>3.43</td>\n",
       "      <td>2.35</td>\n",
       "      <td>11.36</td>\n",
       "      <td>25.88</td>\n",
       "      <td>...</td>\n",
       "      <td>5.00</td>\n",
       "      <td>44.77</td>\n",
       "      <td>36.60</td>\n",
       "      <td>61.26</td>\n",
       "      <td>82.85</td>\n",
       "      <td>10.6</td>\n",
       "      <td>2780.9</td>\n",
       "      <td>4.37</td>\n",
       "      <td>0.0</td>\n",
       "      <td>0.044820</td>\n",
       "    </tr>\n",
       "    <tr>\n",
       "      <th>3</th>\n",
       "      <td>3</td>\n",
       "      <td>1</td>\n",
       "      <td>16656</td>\n",
       "      <td>2.40</td>\n",
       "      <td>1.70</td>\n",
       "      <td>97.35</td>\n",
       "      <td>0.50</td>\n",
       "      <td>0.70</td>\n",
       "      <td>12.55</td>\n",
       "      <td>25.20</td>\n",
       "      <td>...</td>\n",
       "      <td>2.04</td>\n",
       "      <td>88.71</td>\n",
       "      <td>56.70</td>\n",
       "      <td>90.17</td>\n",
       "      <td>96.24</td>\n",
       "      <td>5.2</td>\n",
       "      <td>3217.7</td>\n",
       "      <td>3.31</td>\n",
       "      <td>0.0</td>\n",
       "      <td>0.062874</td>\n",
       "    </tr>\n",
       "    <tr>\n",
       "      <th>4</th>\n",
       "      <td>5</td>\n",
       "      <td>1</td>\n",
       "      <td>140494</td>\n",
       "      <td>2.45</td>\n",
       "      <td>2.51</td>\n",
       "      <td>95.65</td>\n",
       "      <td>0.90</td>\n",
       "      <td>0.95</td>\n",
       "      <td>18.09</td>\n",
       "      <td>32.89</td>\n",
       "      <td>...</td>\n",
       "      <td>1.49</td>\n",
       "      <td>64.35</td>\n",
       "      <td>42.29</td>\n",
       "      <td>70.61</td>\n",
       "      <td>85.66</td>\n",
       "      <td>70.4</td>\n",
       "      <td>1995.7</td>\n",
       "      <td>0.97</td>\n",
       "      <td>0.0</td>\n",
       "      <td>0.090823</td>\n",
       "    </tr>\n",
       "  </tbody>\n",
       "</table>\n",
       "<p>5 rows × 104 columns</p>\n",
       "</div>"
      ],
      "text/plain": [
       "   index  fold     pop  perHoush  pctBlack  pctWhite  pctAsian  pctHisp  \\\n",
       "0      0     1   11980      3.10      1.37     91.78      6.50     1.88   \n",
       "1      1     1   23123      2.82      0.80     95.57      3.44     0.85   \n",
       "2      2     1   29344      2.43      0.74     94.33      3.43     2.35   \n",
       "3      3     1   16656      2.40      1.70     97.35      0.50     0.70   \n",
       "4      5     1  140494      2.45      2.51     95.65      0.90     0.95   \n",
       "\n",
       "   pct12-21  pct12-29  ...  pctForeignBorn  pctBornStateResid  pctSameHouse-5  \\\n",
       "0     12.47     21.44  ...           10.66              53.72           65.29   \n",
       "1     11.01     21.30  ...            8.30              77.17           71.27   \n",
       "2     11.36     25.88  ...            5.00              44.77           36.60   \n",
       "3     12.55     25.20  ...            2.04              88.71           56.70   \n",
       "4     18.09     32.89  ...            1.49              64.35           42.29   \n",
       "\n",
       "   pctSameCounty-5  pctSameState-5  landArea  popDensity  pctUsePubTrans  \\\n",
       "0            78.09           89.14       6.5      1845.9            9.63   \n",
       "1            90.22           96.12      10.6      2186.7            3.84   \n",
       "2            61.26           82.85      10.6      2780.9            4.37   \n",
       "3            90.17           96.24       5.2      3217.7            3.31   \n",
       "4            70.61           85.66      70.4      1995.7            0.97   \n",
       "\n",
       "   pctOfficDrugUnit  violentPerPop  \n",
       "0               0.0       0.008411  \n",
       "1               0.0       0.026155  \n",
       "2               0.0       0.044820  \n",
       "3               0.0       0.062874  \n",
       "4               0.0       0.090823  \n",
       "\n",
       "[5 rows x 104 columns]"
      ]
     },
     "execution_count": 21,
     "metadata": {},
     "output_type": "execute_result"
    }
   ],
   "source": [
    "numeric_data = data._get_numeric_data()\n",
    "numeric_data.head()\n"
   ]
  },
  {
   "cell_type": "code",
   "execution_count": 22,
   "metadata": {},
   "outputs": [
    {
     "data": {
      "text/html": [
       "<div>\n",
       "<style scoped>\n",
       "    .dataframe tbody tr th:only-of-type {\n",
       "        vertical-align: middle;\n",
       "    }\n",
       "\n",
       "    .dataframe tbody tr th {\n",
       "        vertical-align: top;\n",
       "    }\n",
       "\n",
       "    .dataframe thead th {\n",
       "        text-align: right;\n",
       "    }\n",
       "</style>\n",
       "<table border=\"1\" class=\"dataframe\">\n",
       "  <thead>\n",
       "    <tr style=\"text-align: right;\">\n",
       "      <th></th>\n",
       "      <th>communityname</th>\n",
       "      <th>State</th>\n",
       "    </tr>\n",
       "  </thead>\n",
       "  <tbody>\n",
       "    <tr>\n",
       "      <th>0</th>\n",
       "      <td>BerkeleyHeightstownship</td>\n",
       "      <td>NJ</td>\n",
       "    </tr>\n",
       "    <tr>\n",
       "      <th>1</th>\n",
       "      <td>Marpletownship</td>\n",
       "      <td>PA</td>\n",
       "    </tr>\n",
       "    <tr>\n",
       "      <th>2</th>\n",
       "      <td>Tigardcity</td>\n",
       "      <td>OR</td>\n",
       "    </tr>\n",
       "    <tr>\n",
       "      <th>3</th>\n",
       "      <td>Gloversvillecity</td>\n",
       "      <td>NY</td>\n",
       "    </tr>\n",
       "    <tr>\n",
       "      <th>4</th>\n",
       "      <td>Springfieldcity</td>\n",
       "      <td>MO</td>\n",
       "    </tr>\n",
       "  </tbody>\n",
       "</table>\n",
       "</div>"
      ],
      "text/plain": [
       "             communityname State\n",
       "0  BerkeleyHeightstownship    NJ\n",
       "1           Marpletownship    PA\n",
       "2               Tigardcity    OR\n",
       "3         Gloversvillecity    NY\n",
       "4          Springfieldcity    MO"
      ]
     },
     "execution_count": 22,
     "metadata": {},
     "output_type": "execute_result"
    }
   ],
   "source": [
    "non_numeric = list(set(data.columns) - set(numeric_data.columns))\n",
    "data[non_numeric].head()"
   ]
  },
  {
   "cell_type": "code",
   "execution_count": 23,
   "metadata": {},
   "outputs": [
    {
     "data": {
      "text/plain": [
       "(1994, 104)"
      ]
     },
     "execution_count": 23,
     "metadata": {},
     "output_type": "execute_result"
    }
   ],
   "source": [
    "data.drop(non_numeric, axis = 1, inplace = True)\n",
    "data.shape"
   ]
  },
  {
   "cell_type": "code",
   "execution_count": 24,
   "metadata": {},
   "outputs": [],
   "source": [
    "data.drop('index',axis = 1, inplace = True)"
   ]
  },
  {
   "cell_type": "code",
   "execution_count": 25,
   "metadata": {},
   "outputs": [
    {
     "data": {
      "text/html": [
       "<div>\n",
       "<style scoped>\n",
       "    .dataframe tbody tr th:only-of-type {\n",
       "        vertical-align: middle;\n",
       "    }\n",
       "\n",
       "    .dataframe tbody tr th {\n",
       "        vertical-align: top;\n",
       "    }\n",
       "\n",
       "    .dataframe thead th {\n",
       "        text-align: right;\n",
       "    }\n",
       "</style>\n",
       "<table border=\"1\" class=\"dataframe\">\n",
       "  <thead>\n",
       "    <tr style=\"text-align: right;\">\n",
       "      <th></th>\n",
       "      <th>fold</th>\n",
       "      <th>pop</th>\n",
       "      <th>perHoush</th>\n",
       "      <th>pctBlack</th>\n",
       "      <th>pctWhite</th>\n",
       "      <th>pctAsian</th>\n",
       "      <th>pctHisp</th>\n",
       "      <th>pct12-21</th>\n",
       "      <th>pct12-29</th>\n",
       "      <th>pct16-24</th>\n",
       "      <th>...</th>\n",
       "      <th>pctForeignBorn</th>\n",
       "      <th>pctBornStateResid</th>\n",
       "      <th>pctSameHouse-5</th>\n",
       "      <th>pctSameCounty-5</th>\n",
       "      <th>pctSameState-5</th>\n",
       "      <th>landArea</th>\n",
       "      <th>popDensity</th>\n",
       "      <th>pctUsePubTrans</th>\n",
       "      <th>pctOfficDrugUnit</th>\n",
       "      <th>violentPerPop</th>\n",
       "    </tr>\n",
       "  </thead>\n",
       "  <tbody>\n",
       "    <tr>\n",
       "      <th>0</th>\n",
       "      <td>1</td>\n",
       "      <td>11980</td>\n",
       "      <td>3.10</td>\n",
       "      <td>1.37</td>\n",
       "      <td>91.78</td>\n",
       "      <td>6.50</td>\n",
       "      <td>1.88</td>\n",
       "      <td>12.47</td>\n",
       "      <td>21.44</td>\n",
       "      <td>10.93</td>\n",
       "      <td>...</td>\n",
       "      <td>10.66</td>\n",
       "      <td>53.72</td>\n",
       "      <td>65.29</td>\n",
       "      <td>78.09</td>\n",
       "      <td>89.14</td>\n",
       "      <td>6.5</td>\n",
       "      <td>1845.9</td>\n",
       "      <td>9.63</td>\n",
       "      <td>0.0</td>\n",
       "      <td>0.008411</td>\n",
       "    </tr>\n",
       "    <tr>\n",
       "      <th>1</th>\n",
       "      <td>1</td>\n",
       "      <td>23123</td>\n",
       "      <td>2.82</td>\n",
       "      <td>0.80</td>\n",
       "      <td>95.57</td>\n",
       "      <td>3.44</td>\n",
       "      <td>0.85</td>\n",
       "      <td>11.01</td>\n",
       "      <td>21.30</td>\n",
       "      <td>10.48</td>\n",
       "      <td>...</td>\n",
       "      <td>8.30</td>\n",
       "      <td>77.17</td>\n",
       "      <td>71.27</td>\n",
       "      <td>90.22</td>\n",
       "      <td>96.12</td>\n",
       "      <td>10.6</td>\n",
       "      <td>2186.7</td>\n",
       "      <td>3.84</td>\n",
       "      <td>0.0</td>\n",
       "      <td>0.026155</td>\n",
       "    </tr>\n",
       "    <tr>\n",
       "      <th>2</th>\n",
       "      <td>1</td>\n",
       "      <td>29344</td>\n",
       "      <td>2.43</td>\n",
       "      <td>0.74</td>\n",
       "      <td>94.33</td>\n",
       "      <td>3.43</td>\n",
       "      <td>2.35</td>\n",
       "      <td>11.36</td>\n",
       "      <td>25.88</td>\n",
       "      <td>11.01</td>\n",
       "      <td>...</td>\n",
       "      <td>5.00</td>\n",
       "      <td>44.77</td>\n",
       "      <td>36.60</td>\n",
       "      <td>61.26</td>\n",
       "      <td>82.85</td>\n",
       "      <td>10.6</td>\n",
       "      <td>2780.9</td>\n",
       "      <td>4.37</td>\n",
       "      <td>0.0</td>\n",
       "      <td>0.044820</td>\n",
       "    </tr>\n",
       "    <tr>\n",
       "      <th>3</th>\n",
       "      <td>1</td>\n",
       "      <td>16656</td>\n",
       "      <td>2.40</td>\n",
       "      <td>1.70</td>\n",
       "      <td>97.35</td>\n",
       "      <td>0.50</td>\n",
       "      <td>0.70</td>\n",
       "      <td>12.55</td>\n",
       "      <td>25.20</td>\n",
       "      <td>12.19</td>\n",
       "      <td>...</td>\n",
       "      <td>2.04</td>\n",
       "      <td>88.71</td>\n",
       "      <td>56.70</td>\n",
       "      <td>90.17</td>\n",
       "      <td>96.24</td>\n",
       "      <td>5.2</td>\n",
       "      <td>3217.7</td>\n",
       "      <td>3.31</td>\n",
       "      <td>0.0</td>\n",
       "      <td>0.062874</td>\n",
       "    </tr>\n",
       "    <tr>\n",
       "      <th>4</th>\n",
       "      <td>1</td>\n",
       "      <td>140494</td>\n",
       "      <td>2.45</td>\n",
       "      <td>2.51</td>\n",
       "      <td>95.65</td>\n",
       "      <td>0.90</td>\n",
       "      <td>0.95</td>\n",
       "      <td>18.09</td>\n",
       "      <td>32.89</td>\n",
       "      <td>20.04</td>\n",
       "      <td>...</td>\n",
       "      <td>1.49</td>\n",
       "      <td>64.35</td>\n",
       "      <td>42.29</td>\n",
       "      <td>70.61</td>\n",
       "      <td>85.66</td>\n",
       "      <td>70.4</td>\n",
       "      <td>1995.7</td>\n",
       "      <td>0.97</td>\n",
       "      <td>0.0</td>\n",
       "      <td>0.090823</td>\n",
       "    </tr>\n",
       "  </tbody>\n",
       "</table>\n",
       "<p>5 rows × 103 columns</p>\n",
       "</div>"
      ],
      "text/plain": [
       "   fold     pop  perHoush  pctBlack  pctWhite  pctAsian  pctHisp  pct12-21  \\\n",
       "0     1   11980      3.10      1.37     91.78      6.50     1.88     12.47   \n",
       "1     1   23123      2.82      0.80     95.57      3.44     0.85     11.01   \n",
       "2     1   29344      2.43      0.74     94.33      3.43     2.35     11.36   \n",
       "3     1   16656      2.40      1.70     97.35      0.50     0.70     12.55   \n",
       "4     1  140494      2.45      2.51     95.65      0.90     0.95     18.09   \n",
       "\n",
       "   pct12-29  pct16-24  ...  pctForeignBorn  pctBornStateResid  pctSameHouse-5  \\\n",
       "0     21.44     10.93  ...           10.66              53.72           65.29   \n",
       "1     21.30     10.48  ...            8.30              77.17           71.27   \n",
       "2     25.88     11.01  ...            5.00              44.77           36.60   \n",
       "3     25.20     12.19  ...            2.04              88.71           56.70   \n",
       "4     32.89     20.04  ...            1.49              64.35           42.29   \n",
       "\n",
       "   pctSameCounty-5  pctSameState-5  landArea  popDensity  pctUsePubTrans  \\\n",
       "0            78.09           89.14       6.5      1845.9            9.63   \n",
       "1            90.22           96.12      10.6      2186.7            3.84   \n",
       "2            61.26           82.85      10.6      2780.9            4.37   \n",
       "3            90.17           96.24       5.2      3217.7            3.31   \n",
       "4            70.61           85.66      70.4      1995.7            0.97   \n",
       "\n",
       "   pctOfficDrugUnit  violentPerPop  \n",
       "0               0.0       0.008411  \n",
       "1               0.0       0.026155  \n",
       "2               0.0       0.044820  \n",
       "3               0.0       0.062874  \n",
       "4               0.0       0.090823  \n",
       "\n",
       "[5 rows x 103 columns]"
      ]
     },
     "execution_count": 25,
     "metadata": {},
     "output_type": "execute_result"
    }
   ],
   "source": [
    "data.head()"
   ]
  },
  {
   "cell_type": "code",
   "execution_count": 26,
   "metadata": {},
   "outputs": [],
   "source": [
    "transform = ['asianPerCap', 'medIncome', 'medFamIncome', 'whitePerCap', 'hispPerCap', 'pctUsePubTrans',\n",
    " 'persPoverty', 'kidsBornNevrMarr', 'numForeignBorn', 'houseVacant', 'ownHousLowQ', 'ownHousMed', 'ownHousUperQ',\n",
    "             'landArea', 'persEmergShelt','persHomeless', 'popDensity']\n",
    "\n",
    "for variable in transform:\n",
    "    data[variable] = data[variable].apply(lambda x:np.log(x+15))"
   ]
  },
  {
   "cell_type": "code",
   "execution_count": 27,
   "metadata": {},
   "outputs": [
    {
     "data": {
      "text/plain": [
       "((1994, 102), (1994,))"
      ]
     },
     "execution_count": 27,
     "metadata": {},
     "output_type": "execute_result"
    }
   ],
   "source": [
    "y = data[goal_variable]\n",
    "X = data.drop(goal_variable, axis = 1)\n",
    "X.shape, y.shape"
   ]
  },
  {
   "cell_type": "markdown",
   "metadata": {},
   "source": [
    "# Building Model"
   ]
  },
  {
   "cell_type": "code",
   "execution_count": 28,
   "metadata": {},
   "outputs": [
    {
     "name": "stdout",
     "output_type": "stream",
     "text": [
      "(1794, 102) (1794,) (200, 102) (200,)\n"
     ]
    }
   ],
   "source": [
    "from sklearn.model_selection import train_test_split, KFold\n",
    "\n",
    "X = StandardScaler().fit_transform(np.array(X))\n",
    "y = np.array(y)\n",
    "\n",
    "train_x, test_x, train_y, test_y = train_test_split(X,y, test_size = 0.1, random_state = 42)\n",
    "print (train_x.shape, train_y.shape, test_x.shape, test_y.shape)"
   ]
  },
  {
   "cell_type": "code",
   "execution_count": 29,
   "metadata": {},
   "outputs": [],
   "source": [
    "from sklearn.metrics import r2_score, mean_squared_error, mean_absolute_error\n",
    "def evaluate_model(model, x_true, y_true):\n",
    "    \n",
    "    n = x_true.shape[0]\n",
    "    p = x_true.shape[1]\n",
    "    \n",
    "    y_pred = model.predict(x_true).flatten()\n",
    "    \n",
    "    rmse = np.sqrt(mean_squared_error(y_true,y_pred))\n",
    "    r2 = r2_score(y_true,y_pred)\n",
    "    r2_adjusted = 1 - ((1-r2)*((n-1)/(n-p-1)))\n",
    "    \n",
    "    mae = mean_absolute_error(y_true, y_pred)\n",
    "    \n",
    "    print (\"RMSE:   %.4f\" %rmse)\n",
    "    print (\"R2:     %.4f\" %r2)\n",
    "    print (\"MAE:    %.4f\" %mae)\n",
    "    \n",
    "    return (rmse, r2, mae, r2_adjusted)"
   ]
  },
  {
   "cell_type": "code",
   "execution_count": 30,
   "metadata": {},
   "outputs": [
    {
     "data": {
      "text/plain": [
       "'2.3.0'"
      ]
     },
     "execution_count": 30,
     "metadata": {},
     "output_type": "execute_result"
    }
   ],
   "source": [
    "from sklearn.neural_network import MLPRegressor\n",
    "import tensorflow as tf\n",
    "\n",
    "tf.__version__\n"
   ]
  },
  {
   "cell_type": "code",
   "execution_count": 31,
   "metadata": {},
   "outputs": [],
   "source": [
    "from tensorflow.keras.models import Sequential\n",
    "from tensorflow.keras.layers import Dense, Dropout, BatchNormalization"
   ]
  },
  {
   "cell_type": "code",
   "execution_count": 32,
   "metadata": {},
   "outputs": [],
   "source": [
    "def create_model():\n",
    "    model = Sequential()\n",
    "    model.add(Dense(500, activation = 'relu', input_shape = (102,), kernel_initializer = 'he_normal'))\n",
    "    model.add(Dropout(0.3))\n",
    "    model.add(BatchNormalization())\n",
    "    model.add(Dense(100, activation = 'relu', kernel_initializer = 'he_normal'))\n",
    "    model.add(Dropout(0.25))\n",
    "    model.add(BatchNormalization())\n",
    "    model.add(Dense(1, kernel_initializer = 'he_normal'))\n",
    "\n",
    "    model.compile(loss = 'mse', optimizer = 'adam', metrics = ['mse','mae'])\n",
    "    return model"
   ]
  },
  {
   "cell_type": "code",
   "execution_count": 33,
   "metadata": {},
   "outputs": [],
   "source": [
    "model = create_model()"
   ]
  },
  {
   "cell_type": "code",
   "execution_count": 34,
   "metadata": {},
   "outputs": [],
   "source": [
    "history = model.fit(train_x, train_y, epochs = 100, shuffle = True, batch_size = 64, verbose = 0, validation_data = (test_x, test_y))"
   ]
  },
  {
   "cell_type": "code",
   "execution_count": 35,
   "metadata": {},
   "outputs": [],
   "source": [
    "def plot_loss(history):\n",
    "  fig, axs = plt.subplots(1,2, figsize = (15,6))\n",
    "  axs[0].plot(history.history['mse'], label='mse')\n",
    "  axs[0].plot(history.history['val_mse'], label='val_mse')\n",
    "  axs[0].set_ylim([0, 0.025])\n",
    "  axs[0].set_xlabel('Epoch')\n",
    "  axs[0].set_ylabel('MSE')\n",
    "  axs[0].legend()\n",
    "  axs[0].grid(True) \n",
    "\n",
    "  axs[1].plot(history.history['mae'], label='mae')\n",
    "  axs[1].plot(history.history['val_mae'], label='val_mae')\n",
    "  axs[1].set_ylim([0, 0.15])\n",
    "  axs[1].set_xlabel('Epoch')\n",
    "  axs[1].set_ylabel('MAE')\n",
    "  axs[1].legend()\n",
    "  axs[1].grid(True)"
   ]
  },
  {
   "cell_type": "code",
   "execution_count": 36,
   "metadata": {},
   "outputs": [
    {
     "data": {
      "image/png": "[encoded data removed]",
      "text/plain": [
       "<Figure size 1080x432 with 2 Axes>"
      ]
     },
     "metadata": {
      "needs_background": "light"
     },
     "output_type": "display_data"
    }
   ],
   "source": [
    "plot_loss(history)"
   ]
  },
  {
   "cell_type": "code",
   "execution_count": 37,
   "metadata": {},
   "outputs": [
    {
     "name": "stdout",
     "output_type": "stream",
     "text": [
      "train set\n",
      "RMSE:   0.0701\n",
      "R2:     0.6983\n",
      "MAE:    0.0457\n"
     ]
    }
   ],
   "source": [
    "print (\"train set\")\n",
    "_ = evaluate_model(model, train_x, train_y)"
   ]
  },
  {
   "cell_type": "code",
   "execution_count": 38,
   "metadata": {},
   "outputs": [
    {
     "name": "stdout",
     "output_type": "stream",
     "text": [
      "Test set\n",
      "RMSE:   0.0677\n",
      "R2:     0.6264\n",
      "MAE:    0.0460\n"
     ]
    }
   ],
   "source": [
    "print (\"Test set\")\n",
    "_ = evaluate_model(model, test_x, test_y)"
   ]
  },
  {
   "cell_type": "markdown",
   "metadata": {},
   "source": [
    "## Cross Validated Score"
   ]
  },
  {
   "cell_type": "code",
   "execution_count": 39,
   "metadata": {},
   "outputs": [
    {
     "name": "stdout",
     "output_type": "stream",
     "text": [
      "(1994, 102) (1994,)\n"
     ]
    }
   ],
   "source": [
    "y = data[goal_variable]\n",
    "X = data.drop(goal_variable, axis = 1)\n",
    "\n",
    "#X = MinMaxScaler().fit_transform(np.array(X))\n",
    "X = np.array(X)\n",
    "X = StandardScaler().fit_transform(X)\n",
    "\n",
    "y = np.array(y)\n",
    "\n",
    "print (X.shape, y.shape)"
   ]
  },
  {
   "cell_type": "code",
   "execution_count": 40,
   "metadata": {},
   "outputs": [
    {
     "name": "stdout",
     "output_type": "stream",
     "text": [
      "Split 1\n",
      "R2 Score = 0.7241, RMSE = 0.0550,  MAE = 0.0378\n",
      "Split 2\n",
      "R2 Score = 0.6015, RMSE = 0.1013,  MAE = 0.0566\n",
      "Split 3\n",
      "R2 Score = 0.6711, RMSE = 0.0804,  MAE = 0.0524\n",
      "Split 4\n",
      "R2 Score = 0.5743, RMSE = 0.0804,  MAE = 0.0530\n",
      "Split 5\n",
      "R2 Score = 0.6458, RMSE = 0.0746,  MAE = 0.0512\n",
      "Split 6\n",
      "R2 Score = 0.7083, RMSE = 0.0540,  MAE = 0.0409\n",
      "Split 7\n",
      "R2 Score = 0.6329, RMSE = 0.0811,  MAE = 0.0494\n",
      "Split 8\n",
      "R2 Score = 0.6639, RMSE = 0.0736,  MAE = 0.0517\n",
      "Split 9\n",
      "R2 Score = 0.4559, RMSE = 0.0810,  MAE = 0.0480\n",
      "Split 10\n",
      "R2 Score = 0.6728, RMSE = 0.0680,  MAE = 0.0462\n",
      "\n",
      "Mean Cross Validated MAE = 0.0487\n",
      "\n",
      "Mean MSE = 0.0058\n",
      "\n",
      "Mean R2 = 0.6351\n"
     ]
    }
   ],
   "source": [
    "kf = KFold(n_splits = 10,shuffle = True)\n",
    "splits = kf.get_n_splits(X)\n",
    "\n",
    "split = 0\n",
    "maes = []\n",
    "mses = []\n",
    "r2s = []\n",
    "\n",
    "\n",
    "for train_index, test_index in kf.split(X):\n",
    "    split+=1\n",
    "    \n",
    "    train_x = X[train_index]\n",
    "    train_y = y[train_index]\n",
    "    \n",
    "    test_x = X[test_index]\n",
    "    test_y = y[test_index]\n",
    "    \n",
    "    \n",
    "    model = create_model()\n",
    "    model.fit(train_x, train_y, epochs = 100, shuffle = True, \n",
    "                                 batch_size = 64, verbose = 0)\n",
    "\n",
    "    y_hat = model.predict(test_x).flatten()\n",
    "    \n",
    "    \n",
    "\n",
    "    mse = mean_squared_error(test_y,y_hat)\n",
    "    rmse = np.sqrt(mse)\n",
    "    \n",
    "    mae = mean_absolute_error(test_y,y_hat)\n",
    "    \n",
    "    r2 = r2_score(test_y, y_hat)\n",
    "    \n",
    "    print (\"Split %d\"%split)\n",
    "    print (\"R2 Score = %.4f, RMSE = %.4f,  MAE = %.4f\" %(r2, rmse,mae))\n",
    "    \n",
    "    maes.append(mae)\n",
    "    mses.append(mse)\n",
    "    r2s.append(r2)\n",
    "    \n",
    "print (\"\\nMean Cross Validated MAE = %.4f\" %(np.mean(maes)))\n",
    "print (\"\\nMean MSE = %.4f\" %(np.mean(mses)))\n",
    "print (\"\\nMean R2 = %.4f\" %(np.mean(r2s)))"
   ]
  },
  {
   "cell_type": "markdown",
   "metadata": {},
   "source": [
    "## NN with normalized target variable"
   ]
  },
  {
   "cell_type": "code",
   "execution_count": 41,
   "metadata": {},
   "outputs": [
    {
     "name": "stdout",
     "output_type": "stream",
     "text": [
      "0.1722658680617927\n"
     ]
    },
    {
     "name": "stderr",
     "output_type": "stream",
     "text": [
      "c:\\users\\lenovo\\appdata\\local\\programs\\python\\python37\\lib\\site-packages\\seaborn\\distributions.py:2551: FutureWarning: `distplot` is a deprecated function and will be removed in a future version. Please adapt your code to use either `displot` (a figure-level function with similar flexibility) or `histplot` (an axes-level function for histograms).\n",
      "  warnings.warn(msg, FutureWarning)\n"
     ]
    },
    {
     "data": {
      "text/plain": [
       "<matplotlib.axes._subplots.AxesSubplot at 0x1a8ffd89ba8>"
      ]
     },
     "execution_count": 41,
     "metadata": {},
     "output_type": "execute_result"
    },
    {
     "data": {
      "image/png": "[encoded data removed]",
      "text/plain": [
       "<Figure size 432x288 with 1 Axes>"
      ]
     },
     "metadata": {
      "needs_background": "light"
     },
     "output_type": "display_data"
    }
   ],
   "source": [
    "from scipy import stats\n",
    "delta = 1e-16\n",
    "fitted_data, fitted_lambda = stats.boxcox(data[goal_variable].values+delta)\n",
    "\n",
    "print (fitted_lambda)\n",
    "sns.distplot(fitted_data)"
   ]
  },
  {
   "cell_type": "code",
   "execution_count": 43,
   "metadata": {},
   "outputs": [
    {
     "name": "stdout",
     "output_type": "stream",
     "text": [
      "(1994, 102) (1994,)\n"
     ]
    }
   ],
   "source": [
    "true_ys = data[goal_variable].values.copy()\n",
    "\n",
    "y = (np.power((data[goal_variable] + delta),fitted_lambda) - 1)/fitted_lambda\n",
    "\n",
    "X = data.drop(goal_variable, axis = 1)\n",
    "\n",
    "#X = MinMaxScaler().fit_transform(np.array(X))\n",
    "X = np.array(X)\n",
    "X = StandardScaler().fit_transform(X)\n",
    "\n",
    "y = np.array(y)\n",
    "\n",
    "print (X.shape, y.shape)"
   ]
  },
  {
   "cell_type": "code",
   "execution_count": 44,
   "metadata": {},
   "outputs": [
    {
     "name": "stderr",
     "output_type": "stream",
     "text": [
      "c:\\users\\lenovo\\appdata\\local\\programs\\python\\python37\\lib\\site-packages\\seaborn\\distributions.py:2551: FutureWarning: `distplot` is a deprecated function and will be removed in a future version. Please adapt your code to use either `displot` (a figure-level function with similar flexibility) or `histplot` (an axes-level function for histograms).\n",
      "  warnings.warn(msg, FutureWarning)\n"
     ]
    },
    {
     "data": {
      "text/plain": [
       "<matplotlib.axes._subplots.AxesSubplot at 0x1a889528ba8>"
      ]
     },
     "execution_count": 44,
     "metadata": {},
     "output_type": "execute_result"
    },
    {
     "data": {
      "image/png": "[encoded data removed]",
      "text/plain": [
       "<Figure size 432x288 with 1 Axes>"
      ]
     },
     "metadata": {
      "needs_background": "light"
     },
     "output_type": "display_data"
    }
   ],
   "source": [
    "sns.distplot(true_ys)"
   ]
  },
  {
   "cell_type": "code",
   "execution_count": 46,
   "metadata": {},
   "outputs": [
    {
     "name": "stdout",
     "output_type": "stream",
     "text": [
      "Split 1\n",
      "R2 Score = 0.6430, RMSE = 0.0730,  MAE = 0.0450\n",
      "Split 2\n",
      "R2 Score = 0.7034, RMSE = 0.0668,  MAE = 0.0445\n",
      "Split 3\n",
      "R2 Score = 0.5829, RMSE = 0.0868,  MAE = 0.0475\n",
      "Split 4\n",
      "R2 Score = 0.6353, RMSE = 0.0792,  MAE = 0.0460\n",
      "Split 5\n",
      "R2 Score = 0.6406, RMSE = 0.0697,  MAE = 0.0415\n",
      "Split 6\n",
      "R2 Score = 0.7575, RMSE = 0.0668,  MAE = 0.0416\n",
      "Split 7\n",
      "R2 Score = 0.6412, RMSE = 0.0734,  MAE = 0.0428\n",
      "Split 8\n",
      "R2 Score = 0.5462, RMSE = 0.0813,  MAE = 0.0499\n",
      "Split 9\n",
      "R2 Score = 0.5944, RMSE = 0.0799,  MAE = 0.0525\n",
      "Split 10\n",
      "R2 Score = 0.5820, RMSE = 0.0821,  MAE = 0.0464\n",
      "\n",
      "Mean Cross Validated MAE = 0.0458\n",
      "\n",
      "Mean MSE = 0.0058\n",
      "\n",
      "Mean R2 = 0.6326\n"
     ]
    }
   ],
   "source": [
    "kf = KFold(n_splits = 10, shuffle = True)\n",
    "splits = kf.get_n_splits(X)\n",
    "\n",
    "split = 0\n",
    "maes = []\n",
    "mses = []\n",
    "r2s = []\n",
    "\n",
    "for train_index, test_index in kf.split(X):\n",
    "    split+=1\n",
    "    \n",
    "    train_x = X[train_index]\n",
    "    train_y = y[train_index]\n",
    "    \n",
    "    \n",
    "    train_y_true = true_ys[train_index]\n",
    "    \n",
    "    test_x = X[test_index]\n",
    "    test_y = y[test_index]\n",
    "    \n",
    "   \n",
    "    test_y_true = true_ys[test_index]\n",
    "    \n",
    "    \n",
    "    model = create_model()\n",
    "    model.fit(train_x, train_y, epochs = 100, shuffle = True, \n",
    "                                 batch_size = 64, verbose = 0)\n",
    "\n",
    "    y_test_pred = model.predict(test_x).flatten()\n",
    "    \n",
    "    \n",
    "    y_hat = np.exp(np.log((fitted_lambda * y_test_pred) + 1)/fitted_lambda) - delta\n",
    "\n",
    "\n",
    "    mse = mean_squared_error(test_y_true,y_hat)\n",
    "    rmse = np.sqrt(mse)\n",
    "    mae = mean_absolute_error(test_y_true,y_hat)\n",
    "    r2 = r2_score(test_y_true, y_hat)\n",
    "    \n",
    "    print (\"Split %d\"%split)\n",
    "    print (\"R2 Score = %.4f, RMSE = %.4f,  MAE = %.4f\" %(r2, rmse,mae))\n",
    "    maes.append(mae)\n",
    "    mses.append(mse)\n",
    "    r2s.append(r2)\n",
    "    \n",
    "print (\"\\nMean Cross Validated MAE = %.4f\" %(np.mean(maes)))\n",
    "print (\"\\nMean MSE = %.4f\" %(np.mean(mses)))\n",
    "print (\"\\nMean R2 = %.4f\" %(np.mean(r2s)))"
   ]
  }
 ],
 "metadata": {
  "kernelspec": {
   "display_name": "Python 3",
   "language": "python",
   "name": "python3"
  },
  "language_info": {
   "codemirror_mode": {
    "name": "ipython",
    "version": 3
   },
   "file_extension": ".py",
   "mimetype": "text/x-python",
   "name": "python",
   "nbconvert_exporter": "python",
   "pygments_lexer": "ipython3",
   "version": "3.7.3"
  }
 },
 "nbformat": 4,
 "nbformat_minor": 4
}
